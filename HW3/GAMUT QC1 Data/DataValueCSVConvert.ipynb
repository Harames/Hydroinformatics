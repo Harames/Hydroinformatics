{
 "cells": [
  {
   "cell_type": "code",
   "execution_count": 1,
   "id": "1f4d93b5-e5f3-4826-a035-354b5beaed9b",
   "metadata": {},
   "outputs": [],
   "source": [
    "import pandas as pd"
   ]
  },
  {
   "cell_type": "code",
   "execution_count": 2,
   "id": "91838dfc-7c1d-4eaf-8a44-3f86507fca01",
   "metadata": {},
   "outputs": [],
   "source": [
    "df = pd.read_csv(\"LR_MainStreet_BA_WaterTemp_EXO_SourceID_1_QC_1.csv\", header=57)\n",
    "\n",
    "df.index.name = \"ValueID\"\n",
    "\n",
    "col = df.pop(\"WaterTemp_EXO\")\n",
    "df.insert(0, \"DataValue\", col)\n",
    "df.insert(1, \"ValueAccuracy\", \"\")\n",
    "df.insert(5, \"SiteID\", 3)\n",
    "df.insert(6, \"VariableID\", 1)\n",
    "df.insert(7, \"OffsetValue\", \"\")\n",
    "df.insert(8, \"OffsetTypeID\", \"\")\n",
    "df.insert(10, \"QualifierID\", \"\")\n",
    "df.insert(11, \"MethodID\", 6)\n",
    "df.insert(12, \"SourceID\", 1)\n",
    "df.insert(13, \"SampleID\", \"\")\n",
    "df.insert(14, \"DerivedFromID\", \"\")\n",
    "df.insert(15, \"QualityControlLevelID\", 1)\n",
    "toss = df.pop(\"QualifierCode\")"
   ]
  },
  {
   "cell_type": "code",
   "execution_count": 3,
   "id": "bf95e2c7-005f-4414-be08-1292d94ba72c",
   "metadata": {},
   "outputs": [],
   "source": [
    "df2 = pd.read_csv(\"LR_MainStreet_BA_TurbMed_SourceID_1_QC_1.csv\", header=59)\n",
    "\n",
    "df2.index.name = \"ValueID\"\n",
    "\n",
    "col = df2.pop(\"TurbMed\")\n",
    "df2.insert(0, \"DataValue\", col)\n",
    "df2.insert(1, \"ValueAccuracy\", \"\")\n",
    "df2.insert(5, \"SiteID\", 3)\n",
    "df2.insert(6, \"VariableID\", 9)\n",
    "df2.insert(7, \"OffsetValue\", \"\")\n",
    "df2.insert(8, \"OffsetTypeID\", \"\")\n",
    "df2.insert(10, \"QualifierID\", \"\")\n",
    "df2.insert(11, \"MethodID\", 15)\n",
    "df2.insert(12, \"SourceID\", 1)\n",
    "df2.insert(13, \"SampleID\", \"\")\n",
    "df2.insert(14, \"DerivedFromID\", \"\")\n",
    "df2.insert(15, \"QualityControlLevelID\", 1)\n",
    "toss = df2.pop(\"QualifierCode\")"
   ]
  },
  {
   "cell_type": "code",
   "execution_count": 4,
   "id": "f029f47b-a42a-4a22-aa29-c13df2fe99a4",
   "metadata": {},
   "outputs": [],
   "source": [
    "df3 = pd.read_csv(\"LR_MainStreet_BA_Stage_SourceID_1_QC_1.csv\", header=58)\n",
    "\n",
    "df3.index.name = \"ValueID\"\n",
    "\n",
    "col = df3.pop(\"Stage\")\n",
    "df3.insert(0, \"DataValue\", col)\n",
    "df3.insert(1, \"ValueAccuracy\", \"\")\n",
    "df3.insert(5, \"SiteID\", 3)\n",
    "df3.insert(6, \"VariableID\", 15)\n",
    "df3.insert(7, \"OffsetValue\", \"\")\n",
    "df3.insert(8, \"OffsetTypeID\", \"\")\n",
    "df3.insert(10, \"QualifierID\", \"\")\n",
    "df3.insert(11, \"MethodID\", 22)\n",
    "df3.insert(12, \"SourceID\", 1)\n",
    "df3.insert(13, \"SampleID\", \"\")\n",
    "df3.insert(14, \"DerivedFromID\", \"\")\n",
    "df3.insert(15, \"QualityControlLevelID\", 1)\n",
    "toss = df3.pop(\"QualifierCode\")"
   ]
  },
  {
   "cell_type": "code",
   "execution_count": 5,
   "id": "0b2155c5-957d-419a-af12-9595e86d20cd",
   "metadata": {},
   "outputs": [],
   "source": [
    "df4 = pd.read_csv(\"LR_MainStreet_BA_SpCond_SourceID_1_QC_1.csv\", header=59)\n",
    "\n",
    "df4.index.name = \"ValueID\"\n",
    "\n",
    "col = df4.pop(\"SpCond\")\n",
    "df4.insert(0, \"DataValue\", col)\n",
    "df4.insert(1, \"ValueAccuracy\", \"\")\n",
    "df4.insert(5, \"SiteID\", 3)\n",
    "df4.insert(6, \"VariableID\", 2)\n",
    "df4.insert(7, \"OffsetValue\", \"\")\n",
    "df4.insert(8, \"OffsetTypeID\", \"\")\n",
    "df4.insert(10, \"QualifierID\", \"\")\n",
    "df4.insert(11, \"MethodID\", 7)\n",
    "df4.insert(12, \"SourceID\", 1)\n",
    "df4.insert(13, \"SampleID\", \"\")\n",
    "df4.insert(14, \"DerivedFromID\", \"\")\n",
    "df4.insert(15, \"QualityControlLevelID\", 1)\n",
    "toss = df4.pop(\"QualifierCode\")"
   ]
  },
  {
   "cell_type": "code",
   "execution_count": 6,
   "id": "d9f55477-dd41-468d-964a-ce305927cecc",
   "metadata": {},
   "outputs": [],
   "source": [
    "df5 = pd.read_csv(\"LR_MainStreet_BA_pH_SourceID_1_QC_1.csv\", header=57)\n",
    "\n",
    "df5.index.name = \"ValueID\"\n",
    "\n",
    "col = df5.pop(\"pH\")\n",
    "df5.insert(0, \"DataValue\", col)\n",
    "df5.insert(1, \"ValueAccuracy\", \"\")\n",
    "df5.insert(5, \"SiteID\", 3)\n",
    "df5.insert(6, \"VariableID\", 3)\n",
    "df5.insert(7, \"OffsetValue\", \"\")\n",
    "df5.insert(8, \"OffsetTypeID\", \"\")\n",
    "df5.insert(10, \"QualifierID\", \"\")\n",
    "df5.insert(11, \"MethodID\", 8)\n",
    "df5.insert(12, \"SourceID\", 1)\n",
    "df5.insert(13, \"SampleID\", \"\")\n",
    "df5.insert(14, \"DerivedFromID\", \"\")\n",
    "df5.insert(15, \"QualityControlLevelID\", 1)\n",
    "toss = df5.pop(\"QualifierCode\")"
   ]
  },
  {
   "cell_type": "code",
   "execution_count": 7,
   "id": "a6c3d75a-c78d-4155-8f36-3d5fc1894a0d",
   "metadata": {},
   "outputs": [],
   "source": [
    "df6 = pd.read_csv(\"LR_MainStreet_BA_ODO_SourceID_1_QC_1.csv\", header=58)\n",
    "\n",
    "df6.index.name = \"ValueID\"\n",
    "\n",
    "col = df6.pop(\"ODO\")\n",
    "df6.insert(0, \"DataValue\", col)\n",
    "df6.insert(1, \"ValueAccuracy\", \"\")\n",
    "df6.insert(5, \"SiteID\", 3)\n",
    "df6.insert(6, \"VariableID\", 4)\n",
    "df6.insert(7, \"OffsetValue\", \"\")\n",
    "df6.insert(8, \"OffsetTypeID\", \"\")\n",
    "df6.insert(10, \"QualifierID\", \"\")\n",
    "df6.insert(11, \"MethodID\", 9)\n",
    "df6.insert(12, \"SourceID\", 1)\n",
    "df6.insert(13, \"SampleID\", \"\")\n",
    "df6.insert(14, \"DerivedFromID\", \"\")\n",
    "df6.insert(15, \"QualityControlLevelID\", 1)\n",
    "toss = df6.pop(\"QualifierCode\")"
   ]
  },
  {
   "cell_type": "code",
   "execution_count": 8,
   "id": "71f0bfc0-25b0-4c24-85c2-81a2c11e200f",
   "metadata": {},
   "outputs": [],
   "source": [
    "df7 = pd.read_csv(\"LR_MainStreet_BA_ODO_Local_SourceID_1_QC_1.csv\", header=58)\n",
    "\n",
    "df7.index.name = \"ValueID\"\n",
    "\n",
    "col = df7.pop(\"ODO_Local\")\n",
    "df7.insert(0, \"DataValue\", col)\n",
    "df7.insert(1, \"ValueAccuracy\", \"\")\n",
    "df7.insert(5, \"SiteID\", 3)\n",
    "df7.insert(6, \"VariableID\", 6)\n",
    "df7.insert(7, \"OffsetValue\", \"\")\n",
    "df7.insert(8, \"OffsetTypeID\", \"\")\n",
    "df7.insert(10, \"QualifierID\", \"\")\n",
    "df7.insert(11, \"MethodID\", 11)\n",
    "df7.insert(12, \"SourceID\", 1)\n",
    "df7.insert(13, \"SampleID\", \"\")\n",
    "df7.insert(14, \"DerivedFromID\", \"\")\n",
    "df7.insert(15, \"QualityControlLevelID\", 1)\n",
    "toss = df7.pop(\"QualifierCode\")"
   ]
  },
  {
   "cell_type": "code",
   "execution_count": 9,
   "id": "a2ce6082-57c5-45ce-a2b6-3fe0ca563e90",
   "metadata": {},
   "outputs": [],
   "source": [
    "finaldf = pd.concat([df,df2,df3,df4,df5,df6,df7], ignore_index=True)"
   ]
  },
  {
   "cell_type": "code",
   "execution_count": 13,
   "id": "00eba8a5-5116-419a-aed9-5ad7147b1c05",
   "metadata": {},
   "outputs": [],
   "source": [
    "finaldf.index += 1"
   ]
  },
  {
   "cell_type": "code",
   "execution_count": 15,
   "id": "53284f9e-37f7-4d05-957c-f4107f4b0574",
   "metadata": {},
   "outputs": [],
   "source": [
    "finaldf.to_csv(\"datavalues.csv\")"
   ]
  },
  {
   "cell_type": "code",
   "execution_count": null,
   "id": "f9efa1c0-45e6-4aaf-b426-7bf96988fb58",
   "metadata": {},
   "outputs": [],
   "source": []
  }
 ],
 "metadata": {
  "kernelspec": {
   "display_name": "Python 3 (ipykernel)",
   "language": "python",
   "name": "python3"
  },
  "language_info": {
   "codemirror_mode": {
    "name": "ipython",
    "version": 3
   },
   "file_extension": ".py",
   "mimetype": "text/x-python",
   "name": "python",
   "nbconvert_exporter": "python",
   "pygments_lexer": "ipython3",
   "version": "3.9.7"
  }
 },
 "nbformat": 4,
 "nbformat_minor": 5
}
