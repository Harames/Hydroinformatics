{
 "cells": [
  {
   "cell_type": "code",
   "execution_count": 57,
   "id": "efee3836-8944-4629-9c0f-eece1f933997",
   "metadata": {},
   "outputs": [],
   "source": [
    "import pandas as pd\n",
    "import numpy as np"
   ]
  },
  {
   "cell_type": "code",
   "execution_count": 194,
   "id": "10433a39-c522-43cd-a6be-27bf8af184b7",
   "metadata": {},
   "outputs": [],
   "source": [
    "dfSites = pd.read_csv(\"sites.csv\", index_col=0)\n",
    "dfVariables = pd.read_csv(\"variables.csv\", index_col=0)\n",
    "dfMethods = pd.read_csv(\"methods.csv\", index_col=0)\n",
    "dfSource = pd.read_csv(\"sources.csv\", index_col=0)\n",
    "\n",
    "dfSource.loc[len(dfSource.index)+1] = [\"USDA\",\"The United States Geological Survey (USGS) has collected water-resources data at approximately 1.5 million sites in all 50 States, the District of Columbia, Puerto Rico, the Virgin Islands, Guam, American Samoa and the Commonwealth of the Northern Mariana Islands.\",\"https://waterdata.usgs.gov/nwis\",np.NaN,np.NaN,np.NaN,np.NaN,np.NaN,np.NaN,np.NaN,\"U.S. Geological Survey, 2016, National Water Information System data available on the World Wide Web (USGS Water Data for the Nation), accessed [June 10, 2012], at URL [http://waterdata.usgs.gov/nwis/].\",0]\n",
    "dfMethods.loc[len(dfMethods.index)+1] = [\"Gauge measurements taken by the USGS\", \"https://waterdata.usgs.gov/nwis\"]\n",
    "dfVariables.loc[len(dfVariables.index)+1] = [\"Stage_USGS\",\"Gauge Height\",\"Not Applicable\",48,\"Surface Water\",\"Field Observation\",1,0,102,\"Continuous\",\"Water Quality\",-9999]\n",
    "dfSites.loc[len(dfSites.index)+1] = [\"USGS_LR_StateDam\",\"USGS Logan River Above State Dam\",41.74355,-111.7839806,2,1427.01264,\"GNSS2\",np.NaN,np.NaN,np.NaN,np.NaN,\"Utah\",\"Cache\",np.NaN,\"Stream\"]"
   ]
  },
  {
   "cell_type": "code",
   "execution_count": 211,
   "id": "b8242184-d695-41e7-accc-671a9c162ab5",
   "metadata": {},
   "outputs": [],
   "source": [
    "df = pd.read_csv(\"USGSData.txt\", sep=\"\\t\", header=28)\n",
    "df.index.name = \"ValueID\"\n",
    "\n",
    "df.pop(\"5s\")\n",
    "df.pop(\"15s\")\n",
    "df.pop(\"6s\")\n",
    "col = df.pop(\"14n\")\n",
    "qal = df.pop(\"10s\")\n",
    "\n",
    "df.insert(0, \"DataValue\", col)\n",
    "df.insert(1, \"ValueAccuracy\", \"\")\n",
    "col = df.pop(\"20d\")\n",
    "df.insert(2, \"LocalDateTime\", col)\n",
    "df.insert(3, \"UTCOffset\", -7)\n",
    "col = pd.to_datetime(df.loc[:,\"LocalDateTime\"]) + pd.DateOffset(hours=7)\n",
    "df.insert(4, \"DateTimeUTC\", col)\n",
    "df.insert(5, \"SiteID\", 13)\n",
    "df.insert(6, \"VariableID\", 17)\n",
    "df.insert(7, \"OffsetValue\", \"\")\n",
    "df.insert(8, \"OffsetTypeID\", \"\")\n",
    "df.insert(9, \"CensorCode\", \"nc\")\n",
    "df.insert(10, \"QualifierID\", \"\")\n",
    "df.insert(11, \"MethodID\", 26)\n",
    "df.insert(12, \"SourceID\", 2)\n",
    "df.insert(13, \"SampleID\", \"\")\n",
    "df.insert(14, \"DerivedFromID\", \"\")\n",
    "\n",
    "qal = qal.replace([\"A\",\"P\"],[1,0])\n",
    "df.insert(15, \"QualityControlLevelID\", qal)\n",
    "df = df.drop_duplicates(ignore_index=True)\n",
    "df.index += 1"
   ]
  },
  {
   "cell_type": "code",
   "execution_count": 212,
   "id": "3e59ee38-03ca-4a5f-9040-479a06219d77",
   "metadata": {},
   "outputs": [],
   "source": [
    "dfSource.to_csv(\"Modified/sources.csv\")\n",
    "dfVariables.to_csv(\"Modified/variables.csv\")\n",
    "dfMethods.to_csv(\"Modified/methods.csv\")\n",
    "dfSites.to_csv(\"Modified/sites.csv\")\n",
    "#df.to_csv(\"Modified/datavalues.csv\")"
   ]
  },
  {
   "cell_type": "code",
   "execution_count": 213,
   "id": "b5b9df38-b1fb-4a69-a7c4-ebc4d3587a7d",
   "metadata": {},
   "outputs": [],
   "source": [
    "dfLoganRiver = pd.read_csv(\"GAMUT QC1 Data/datavalues.csv\", index_col=0)"
   ]
  },
  {
   "cell_type": "code",
   "execution_count": 214,
   "id": "f75d1ac9-cca6-47b7-94bc-84dda1cd9aed",
   "metadata": {},
   "outputs": [],
   "source": [
    "combinedData = pd.concat([dfLoganRiver,df], ignore_index=True)\n",
    "combinedData.to_csv(\"Modified/datavalues.csv\")"
   ]
  },
  {
   "cell_type": "code",
   "execution_count": null,
   "id": "91be5f70-12bd-40da-9600-4551563b8007",
   "metadata": {},
   "outputs": [],
   "source": []
  }
 ],
 "metadata": {
  "kernelspec": {
   "display_name": "Python 3 (ipykernel)",
   "language": "python",
   "name": "python3"
  },
  "language_info": {
   "codemirror_mode": {
    "name": "ipython",
    "version": 3
   },
   "file_extension": ".py",
   "mimetype": "text/x-python",
   "name": "python",
   "nbconvert_exporter": "python",
   "pygments_lexer": "ipython3",
   "version": "3.9.7"
  }
 },
 "nbformat": 4,
 "nbformat_minor": 5
}
